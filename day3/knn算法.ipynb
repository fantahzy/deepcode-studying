{
 "cells": [
  {
   "cell_type": "code",
   "execution_count": 2,
   "metadata": {},
   "outputs": [
    {
     "data": {
      "text/plain": [
       "<matplotlib.collections.PathCollection at 0x22beade4320>"
      ]
     },
     "execution_count": 2,
     "metadata": {},
     "output_type": "execute_result"
    },
    {
     "data": {
      "image/png": "[encoded data removed]",
      "text/plain": [
       "<Figure size 432x288 with 1 Axes>"
      ]
     },
     "metadata": {},
     "output_type": "display_data"
    }
   ],
   "source": [
    "import pandas as pd\n",
    "import numpy as np\n",
    "import operator\n",
    "import matplotlib.pyplot as plt\n",
    "\n",
    "dataSet= np.array([[1,2],[2,3],[3,1],[3,4],[2,4],[1,3]])\n",
    "labels = ['A','A','B','B','C','D'] # 定义数据数值和标签\n",
    "\n",
    "inx = [2,5.5] # 所求K值的点\n",
    "X = np.array([[1,2],[2,3],[3,1],[3,4],[2,4],[1,3],[2,4],[2,5.5]])\n",
    "plt.scatter(X[:, 0], X[:, 1], c = [1,1,2,2,3,4,5,6], s=50) # 作坐标系图并且标记颜色"
   ]
  },
  {
   "cell_type": "code",
   "execution_count": 10,
   "metadata": {},
   "outputs": [],
   "source": [
    "def classify0(inX,dataSet,labels,K):\n",
    "    # inx:你要输入进行分类的值\n",
    "    # dataSet： 数据集\n",
    "    # label  ： 标签\n",
    "    dataSetm = dataSet.shape[0] # 获取数据集的行\n",
    "    datadiff = np.tile(inx,(dataSetm,1)) # 复制成与目标矩阵一样的维度\n",
    "    distances = (((dataSet- datadiff)**2).sum(axis=1))**0.5 # 计算两点距离\n",
    "    indexO = distances.argsort() # 获得排序下标\n",
    "    print(distances)\n",
    "    print(indexO)\n",
    "    classCount={} # 字典存取计数\n",
    "    for i in range(K): # 循环计算点的数量\n",
    "        label = labels[indexO[i]]\n",
    "        classCount[label] = classCount.get(label,0) +1 #按由大到小排序\n",
    "    print(classCount)\n",
    "    sorted(classCount.items(),key=operator.itemgetter(1),reverse=True)\n",
    "#     print(classCount.items())\n",
    "    print(sorted(classCount.items(),key=operator.itemgetter(1),reverse=True))\n",
    "    result = sorted(classCount.items(),key=operator.itemgetter(1),reverse=True)\n",
    "    return result[0][0] # 返回最大的标签"
   ]
  },
  {
   "cell_type": "code",
   "execution_count": 12,
   "metadata": {
    "scrolled": false
   },
   "outputs": [
    {
     "name": "stdout",
     "output_type": "stream",
     "text": [
      "[3.64005494 2.5        4.60977223 1.80277564 1.5        2.6925824 ]\n",
      "[4 3 1 5 0 2]\n",
      "{'C': 1, 'B': 2, 'A': 2, 'D': 1}\n",
      "[('B', 2), ('A', 2), ('C', 1), ('D', 1)]\n"
     ]
    },
    {
     "data": {
      "text/plain": [
       "'B'"
      ]
     },
     "execution_count": 12,
     "metadata": {},
     "output_type": "execute_result"
    }
   ],
   "source": [
    "classify0(inx,dataSet=dataSet,labels=labels,K=6)"
   ]
  }
 ],
 "metadata": {
  "kernelspec": {
   "display_name": "Python 3",
   "language": "python",
   "name": "python3"
  },
  "language_info": {
   "codemirror_mode": {
    "name": "ipython",
    "version": 3
   },
   "file_extension": ".py",
   "mimetype": "text/x-python",
   "name": "python",
   "nbconvert_exporter": "python",
   "pygments_lexer": "ipython3",
   "version": "3.6.5"
  }
 },
 "nbformat": 4,
 "nbformat_minor": 2
}
